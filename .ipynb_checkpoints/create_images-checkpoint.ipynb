{
 "cells": [
  {
   "cell_type": "code",
   "execution_count": 39,
   "id": "9dd0a2c0",
   "metadata": {},
   "outputs": [],
   "source": [
    "import pandas\n",
    "import math\n",
    "import numpy as np\n",
    "import cv2\n",
    "from PIL import Image\n",
    "\n",
    "# Initializing parameters\n",
    "grid_size = 224\n",
    "grid_range = 15.0\n",
    "\n",
    "grid_min = -grid_range/2\n",
    "grid_max = grid_range/2\n",
    "grid_coeff = (grid_size - 1)/grid_range\n",
    "\n",
    "def PointCloudToOccupancyGrid(point_cloud):\n",
    "    occupancy_grid = np.zeros((grid_size, grid_size))\n",
    "    #occupancy_grid[math.floor(grid_size/2), math.floor(grid_size/2)] = 1\n",
    "    N = point_cloud.shape[0]\n",
    "    for i in range(N):\n",
    "        gridX = math.floor((point_cloud[i][0] - grid_min)*grid_coeff)\n",
    "        gridY = math.floor((point_cloud[i][1] - grid_min)*grid_coeff)\n",
    "        dist = np.sqrt(np.square(point_cloud[i][0]) + np.square(point_cloud[i][0]))\n",
    "        if gridX >= 0 and gridX < grid_size and gridY >= 0 and gridY < grid_size and dist < grid_range/2:\n",
    "            occupancy_grid[gridX, gridY] = 1\n",
    "    return np.rot90(occupancy_grid)"
   ]
  },
  {
   "cell_type": "code",
   "execution_count": 40,
   "id": "8ef31370",
   "metadata": {},
   "outputs": [],
   "source": [
    "# Read data\n",
    "df = pandas.read_csv('./raw_data/traj_2/pose_list.csv')\n",
    "pose_list = df.values\n",
    "N = pose_list.shape[0]"
   ]
  },
  {
   "cell_type": "code",
   "execution_count": 41,
   "id": "f8a07d85",
   "metadata": {},
   "outputs": [],
   "source": [
    "# Create Occupancy Grid\n",
    "for i in range(N):\n",
    "    df = pandas.read_csv('./raw_data/traj_2/pose_' + str(i) + '.csv')\n",
    "    data = df.values\n",
    "    occupancy_grid = PointCloudToOccupancyGrid(data)\n",
    "    cv2.imwrite('./data/traj_2/img_'+ str(i) + '.jpg', occupancy_grid*255)"
   ]
  }
 ],
 "metadata": {
  "kernelspec": {
   "display_name": "Python 3",
   "language": "python",
   "name": "python3"
  },
  "language_info": {
   "codemirror_mode": {
    "name": "ipython",
    "version": 3
   },
   "file_extension": ".py",
   "mimetype": "text/x-python",
   "name": "python",
   "nbconvert_exporter": "python",
   "pygments_lexer": "ipython3",
   "version": "3.9.1"
  }
 },
 "nbformat": 4,
 "nbformat_minor": 5
}

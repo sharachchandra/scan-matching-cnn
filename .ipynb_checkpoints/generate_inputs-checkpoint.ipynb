{
 "cells": [
  {
   "cell_type": "code",
   "execution_count": 65,
   "id": "26f34112",
   "metadata": {},
   "outputs": [],
   "source": [
    "import cv2\n",
    "import numpy as np\n",
    "from PIL import Image\n",
    "import pandas\n",
    "import math\n",
    "\n",
    "def RelativePose(pose1, pose2):\n",
    "    c = np.cos(-pose1[2])\n",
    "    s = np.sin(-pose1[2])\n",
    "    x = pose2[0] - pose1[0]\n",
    "    y = pose2[1] - pose1[1]\n",
    "    Theta = pose2[2] - pose1[2]\n",
    "    X = c*x - s*y\n",
    "    Y = s*x + c*y\n",
    "    return np.array([X, Y, Theta])\n",
    "\n",
    "def GenerateInputVector(dir):\n",
    "    max_succ_dist = 0.5\n",
    "    max_succ_ang = math.radians(10)\n",
    "    pose_list = pandas.read_csv(dir + 'pose_list.csv', header=None).values\n",
    "    N = len(pose_list)\n",
    "    \n",
    "    image1_list = []\n",
    "    image2_list = []\n",
    "    rel_pose_list = []\n",
    "    print(pose_list)\n",
    "    for i in range(0, N-1):\n",
    "        for j in range(i+1, N):\n",
    "            rel_pose = RelativePose(pose_list[i], pose_list[j])\n",
    "            dist = np.sqrt(rel_pose[0]*rel_pose[0] + rel_pose[1]*rel_pose[1])\n",
    "            ang = rel_pose[2]\n",
    "            if dist < max_succ_dist and ang < max_succ_ang:\n",
    "                image1_list.append(cv2.imread(dir + 'img_' + str(i) + '.jpg', 0)/255)\n",
    "                image2_list.append(cv2.imread(dir + 'img_' + str(j) + '.jpg', 0)/255)\n",
    "                rel_pose_list.append(rel_pose)\n",
    "    return image1_list, image2_list, rel_pose_list"
   ]
  },
  {
   "cell_type": "code",
   "execution_count": 66,
   "id": "ab7c0ab2",
   "metadata": {},
   "outputs": [
    {
     "name": "stdout",
     "output_type": "stream",
     "text": [
      "[[-2.10000e+01  9.00000e+00  0.00000e+00]\n",
      " [-2.10000e+01  9.00000e+00  0.00000e+00]\n",
      " [-2.09906e+01  9.00000e+00  4.37205e-04]\n",
      " ...\n",
      " [-1.30123e+01  1.50428e+01  1.35542e+00]\n",
      " [-1.30085e+01  1.50593e+01  1.33656e+00]\n",
      " [-1.30075e+01  1.50635e+01  1.33121e+00]]\n"
     ]
    }
   ],
   "source": [
    "dir = \"./data/traj_2/\"\n",
    "image1_list, image2_list, rel_pose_list = GenerateInputVector(dir)\n",
    "# Image.fromarray(image1_list[0]*255).show()"
   ]
  },
  {
   "cell_type": "code",
   "execution_count": 54,
   "id": "039ad85d",
   "metadata": {},
   "outputs": [
    {
     "data": {
      "text/plain": [
       "[array([0.0094    , 0.        , 0.00043721]),\n",
       " array([ 2.87000e-02, -1.00000e-05, -1.01331e-03]),\n",
       " array([ 4.87000e-02, -5.00000e-05, -3.70064e-03]),\n",
       " array([ 0.0688    , -0.00014   , -0.00605629]),\n",
       " array([ 1.92999938e-02, -1.84380553e-05, -1.45051500e-03]),\n",
       " array([ 3.92999744e-02, -6.71821512e-05, -4.13784500e-03]),\n",
       " array([ 0.05939993, -0.00016597, -0.0064935 ]),\n",
       " array([ 2.00000303e-02, -1.97337829e-05, -2.68733000e-03]),\n",
       " array([ 4.01001111e-02, -8.93662092e-05, -5.04298000e-03]),\n",
       " array([ 2.01001954e-02, -1.56166895e-05, -2.35565000e-03])]"
      ]
     },
     "execution_count": 54,
     "metadata": {},
     "output_type": "execute_result"
    }
   ],
   "source": [
    "rel_pose_list"
   ]
  },
  {
   "cell_type": "code",
   "execution_count": null,
   "id": "8929ed34",
   "metadata": {},
   "outputs": [],
   "source": []
  }
 ],
 "metadata": {
  "kernelspec": {
   "display_name": "Python 3",
   "language": "python",
   "name": "python3"
  },
  "language_info": {
   "codemirror_mode": {
    "name": "ipython",
    "version": 3
   },
   "file_extension": ".py",
   "mimetype": "text/x-python",
   "name": "python",
   "nbconvert_exporter": "python",
   "pygments_lexer": "ipython3",
   "version": "3.9.1"
  }
 },
 "nbformat": 4,
 "nbformat_minor": 5
}

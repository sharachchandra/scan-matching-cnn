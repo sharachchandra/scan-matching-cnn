{
 "cells": [
  {
   "cell_type": "code",
   "execution_count": 1,
   "id": "bb11994a",
   "metadata": {},
   "outputs": [],
   "source": [
    "import cv2\n",
    "import matplotlib.pyplot as plt\n",
    "import numpy as np\n",
    "from PIL import Image\n",
    "import pandas\n",
    "import math\n",
    "from generate_inputs import GenerateInputVector\n",
    "from generate_inputs import TrajectoryLoad2\n",
    "from generate_inputs import Net\n",
    "from generate_inputs import device\n",
    "from generate_inputs import AbsolutePose\n",
    "from generate_inputs import RelativePose\n",
    "import torch\n",
    "import torch.nn as nn\n",
    "import torch.nn.functional as F\n",
    "from torch.utils.data import Dataset, DataLoader"
   ]
  },
  {
   "cell_type": "code",
   "execution_count": 2,
   "id": "c3d0689c",
   "metadata": {},
   "outputs": [
    {
     "name": "stdout",
     "output_type": "stream",
     "text": [
      "12\n",
      "[  0  27  53  79 105 131 157 177 203 229 255 281 307 333 359 385]\n",
      "15\n"
     ]
    },
    {
     "data": {
      "image/png": "[encoded data removed]",
      "text/plain": [
       "<Figure size 432x288 with 1 Axes>"
      ]
     },
     "metadata": {
      "needs_background": "light"
     },
     "output_type": "display_data"
    }
   ],
   "source": [
    "# Load data\n",
    "traj_num = 12\n",
    "# test_traj = TrajectoryLoad('./data/', traj_num , 6)\n",
    "test_traj  =TrajectoryLoad2('./data/', traj_num, 100, 0.5, math.radians(10))\n",
    "rel_traj_csm = pandas.read_csv('./data/traj_' + str(traj_num) + '/' + 'pose_list_CSM.csv', header=None).values\n",
    "print(len(test_traj))\n",
    "# for i in range(len(test_traj)):\n",
    "#     sample = test_traj[i]\n",
    "#     print(sample['rel_pose'])\n",
    "\n",
    "# Loading trained network parameters\n",
    "\n",
    "device = torch.device(\"cuda\")\n",
    "net_x = Net()\n",
    "net_x = net_x.to(device)\n",
    "net_x = torch.load('./net_x_4.pyt')\n",
    "net_y = Net()\n",
    "net_y = net_y.to(device)\n",
    "net_y = torch.load('./net_y_4.pyt')\n",
    "net_angle = Net()\n",
    "net_angle = net_angle.to(device)\n",
    "net_angle = torch.load('./net_angle_4.pyt')\n",
    "\n",
    "# Verifying results\n",
    "abs_pose_act_array = []\n",
    "abs_pose_pred_array = []\n",
    "rel_pose_pred_array = []\n",
    "rel_pose_act_array = []\n",
    "abs_pose_pred_array.append(test_traj.getStartPose())\n",
    "abs_pose_act_array.append(test_traj.getStartPose())\n",
    "for i in range(len(test_traj)):\n",
    "    inp = np.stack([test_traj[i]['image1'], test_traj[i]['image2']])\n",
    "    inp = torch.tensor(np.expand_dims(inp, axis=0)).float().cuda()\n",
    "    \n",
    "#     print(net_x(inp).detach().cpu().numpy())\n",
    "    rel_x = net_x(inp).detach().cpu().numpy()\n",
    "    rel_y = net_y(inp).detach().cpu().numpy()\n",
    "    rel_angle = net_angle(inp).detach().cpu().numpy()\n",
    "    rel_pose_pred = np.array([rel_x, rel_y, rel_angle])\n",
    "    rel_pose_act = test_traj[i]['rel_pose']\n",
    "    \n",
    "    rel_pose_pred_array.append(rel_pose_pred)\n",
    "    rel_pose_act_array.append(rel_pose_act)\n",
    "    \n",
    "    abs_pose_pred_array.append(AbsolutePose(abs_pose_pred_array[-1], rel_pose_pred))\n",
    "    abs_pose_act_array.append(AbsolutePose(abs_pose_act_array[-1], rel_pose_act))\n",
    "    \n",
    "rel_pose_pred_array = np.squeeze(np.asarray(rel_pose_pred_array))\n",
    "rel_pose_act_array = np.asarray(rel_pose_act_array)\n",
    "abs_pose_act_array = np.asarray(abs_pose_act_array)\n",
    "abs_pose_pred_array = np.asarray(abs_pose_pred_array)\n",
    "\n",
    "abs_traj_csm = []\n",
    "for i in range(len(rel_traj_csm)):\n",
    "    abs_traj_csm.append(AbsolutePose(test_traj.getStartPose(), rel_traj_csm[i]))\n",
    "abs_traj_csm = np.asarray(abs_traj_csm)\n",
    "# plt.figure()\n",
    "# error_x = rel_pose_act_array[:,0]-rel_pose_pred_array[:,0]\n",
    "# plt.plot(error_x, label='Error')\n",
    "# # plt.plot(rel_pose_pred_array[:,0], label='Prediction')\n",
    "# plt.xlabel(\"Number of pose pairs\")\n",
    "# plt.ylabel(\"Relative pose-X (m)\")\n",
    "# plt.title(\"Relative pose-X Error | MSE = \" + \"{:.5f}\".format(np.mean(error_x**2)))\n",
    "# plt.legend()\n",
    "# plt.show()\n",
    "\n",
    "# plt.figure()\n",
    "# error_y = rel_pose_act_array[:,1]-rel_pose_pred_array[:,1]\n",
    "# plt.plot(error_y, label='Error')\n",
    "# # plt.plot(rel_pose_pred_array[:,0], label='Prediction')\n",
    "# plt.xlabel(\"Number of pose pairs\")\n",
    "# plt.ylabel(\"Relative pose-Y (m)\")\n",
    "# plt.title(\"Relative pose-Y Error | MSE = \" + \"{:.5f}\".format(np.mean(error_y**2)))\n",
    "# plt.legend()\n",
    "# plt.show()\n",
    "\n",
    "# plt.figure()\n",
    "# error_angle = rel_pose_act_array[:,2]-rel_pose_pred_array[:,2]\n",
    "# plt.plot(np.degrees(error_angle), label='Error')\n",
    "# # plt.plot(rel_pose_pred_array[:,0], label='Prediction')\n",
    "# plt.xlabel(\"Number of pose pairs\")\n",
    "# plt.ylabel(\"Relative pose-Angle (deg)\")\n",
    "# plt.title(\"Relative pose-Angle Error | MSE (rad^2)= \" + \"{:.5f}\".format(np.mean(error_angle**2)))\n",
    "# plt.legend()\n",
    "# plt.show()\n",
    "\n",
    "plt.figure()\n",
    "# dir = './data/' + 'traj_' + str(4) + '/'\n",
    "# pose_list = pandas.read_csv(dir + 'pose_list.csv', header=None).values\n",
    "# plt.plot(pose_list[:,0], pose_list[:,1], label='Raw')\n",
    "plt.plot(abs_pose_act_array[:,0], abs_pose_act_array[:,1], label='Actual')\n",
    "plt.plot(abs_pose_pred_array[:,0], abs_pose_pred_array[:,1], '-*', label='Prediction')\n",
    "plt.plot(abs_traj_csm[:,0], abs_traj_csm[:,1], '-x', label='CSM')\n",
    "plt.xlabel(\"X coordinate\")\n",
    "plt.ylabel(\"Y coordinate\")\n",
    "plt.title(\"Actual vs Predicted Trajectories\")\n",
    "plt.legend()\n",
    "plt.show()"
   ]
  },
  {
   "cell_type": "code",
   "execution_count": null,
   "id": "2a7b3905",
   "metadata": {},
   "outputs": [],
   "source": []
  },
  {
   "cell_type": "code",
   "execution_count": null,
   "id": "83929ebb",
   "metadata": {},
   "outputs": [],
   "source": []
  }
 ],
 "metadata": {
  "kernelspec": {
   "display_name": "Python 3 (ipykernel)",
   "language": "python",
   "name": "python3"
  },
  "language_info": {
   "codemirror_mode": {
    "name": "ipython",
    "version": 3
   },
   "file_extension": ".py",
   "mimetype": "text/x-python",
   "name": "python",
   "nbconvert_exporter": "python",
   "pygments_lexer": "ipython3",
   "version": "3.9.7"
  }
 },
 "nbformat": 4,
 "nbformat_minor": 5
}

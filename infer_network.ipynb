{
 "cells": [
  {
   "cell_type": "code",
   "execution_count": 4,
   "id": "bb11994a",
   "metadata": {},
   "outputs": [],
   "source": [
    "import cv2\n",
    "import numpy as np\n",
    "from PIL import Image\n",
    "import pandas\n",
    "import math\n",
    "from generate_inputs import GenerateInputVector\n",
    "from generate_inputs import Net\n",
    "from generate_inputs import device\n",
    "from generate_inputs import AbsolutePose\n",
    "from generate_inputs import RelativePose\n",
    "import torch\n",
    "import torch.nn as nn\n",
    "import torch.nn.functional as F"
   ]
  },
  {
   "cell_type": "code",
   "execution_count": null,
   "id": "c3d0689c",
   "metadata": {},
   "outputs": [],
   "source": [
    "# Load data\n",
    "\n",
    "traj_num_list = np.arange(1,11)\n",
    "pose_list, image_list, image1_list, image2_list, rel_pose_list = GenerateInputVector(traj_num_list)"
   ]
  },
  {
   "cell_type": "code",
   "execution_count": 7,
   "id": "2fed7cf3",
   "metadata": {},
   "outputs": [],
   "source": [
    "# Loading trained network parameters\n",
    "\n",
    "device = torch.device(\"cuda\")\n",
    "net_x = Net()\n",
    "net_x = net_x.to(device)\n",
    "net_x = torch.load('./net_x.pyt')\n",
    "net_y = Net()\n",
    "net_y = net_y.to(device)\n",
    "net_y = torch.load('./net_y.pyt')\n",
    "net_angle = Net()\n",
    "net_angle = net_angle.to(device)\n",
    "net_angle = torch.load('./net_angle.pyt')"
   ]
  },
  {
   "cell_type": "code",
   "execution_count": 13,
   "id": "5f3cf16a",
   "metadata": {},
   "outputs": [],
   "source": [
    "# Verifying results\n",
    "\n",
    "import matplotlib.pyplot as plt\n",
    "rel_pose_pred_array = []\n",
    "for i in range(len(rel_pose_list)):\n",
    "    inp = np.stack([image1_list[i], image2_list[i]])\n",
    "    inp = torch.tensor(np.expand_dims(inp, axis=0)).float().cuda()\n",
    "    \n",
    "    rel_x = (net_x(inp).detach().cpu().numpy())[0]\n",
    "    rel_y = net_y(inp).detach().cpu().numpy()[0]\n",
    "    rel_angle = net_angle(inp).detach().cpu().numpy()[0]\n",
    "    rel_pose_pred_array.append(np.array([rel_x, rel_y, rel_angle]))\n",
    "rel_pose_pred_array = np.squeeze(np.asarray(rel_pose_pred_array))\n",
    "rel_pose_array = np.asarray(rel_pose_list)"
   ]
  },
  {
   "cell_type": "code",
   "execution_count": 14,
   "id": "bc168590",
   "metadata": {},
   "outputs": [
    {
     "data": {
      "image/png": "[encoded data removed]",
      "text/plain": [
       "<Figure size 432x288 with 1 Axes>"
      ]
     },
     "metadata": {
      "needs_background": "light"
     },
     "output_type": "display_data"
    }
   ],
   "source": [
    "plt.figure()\n",
    "error_x = rel_pose_array[:,0]-rel_pose_pred_array[:,0]\n",
    "plt.hist(error_x, label='Error', bins = 100)\n",
    "# plt.plot(rel_pose_pred_array[:,0], label='Prediction')\n",
    "plt.xlabel(\"Number of pose pairs\")\n",
    "plt.ylabel(\"Relative pose-X (m)\")\n",
    "plt.title(\"Verifying Relative pose-X results | MSE = \" + \"{:.5f}\".format(np.mean(error_x**2)))\n",
    "plt.legend()\n",
    "plt.show()"
   ]
  },
  {
   "cell_type": "code",
   "execution_count": 15,
   "id": "e657e2d5",
   "metadata": {},
   "outputs": [
    {
     "ename": "IndexError",
     "evalue": "too many indices for array: array is 0-dimensional, but 1 were indexed",
     "output_type": "error",
     "traceback": [
      "\u001b[0;31m---------------------------------------------------------------------------\u001b[0m",
      "\u001b[0;31mIndexError\u001b[0m                                Traceback (most recent call last)",
      "\u001b[0;32m/tmp/ipykernel_502406/1485558666.py\u001b[0m in \u001b[0;36m<module>\u001b[0;34m\u001b[0m\n\u001b[1;32m     12\u001b[0m     \u001b[0minp\u001b[0m \u001b[0;34m=\u001b[0m \u001b[0mtorch\u001b[0m\u001b[0;34m.\u001b[0m\u001b[0mtensor\u001b[0m\u001b[0;34m(\u001b[0m\u001b[0mnp\u001b[0m\u001b[0;34m.\u001b[0m\u001b[0mexpand_dims\u001b[0m\u001b[0;34m(\u001b[0m\u001b[0minp\u001b[0m\u001b[0;34m,\u001b[0m \u001b[0maxis\u001b[0m\u001b[0;34m=\u001b[0m\u001b[0;36m0\u001b[0m\u001b[0;34m)\u001b[0m\u001b[0;34m)\u001b[0m\u001b[0;34m.\u001b[0m\u001b[0mfloat\u001b[0m\u001b[0;34m(\u001b[0m\u001b[0;34m)\u001b[0m\u001b[0;34m.\u001b[0m\u001b[0mcuda\u001b[0m\u001b[0;34m(\u001b[0m\u001b[0;34m)\u001b[0m\u001b[0;34m\u001b[0m\u001b[0;34m\u001b[0m\u001b[0m\n\u001b[1;32m     13\u001b[0m \u001b[0;34m\u001b[0m\u001b[0m\n\u001b[0;32m---> 14\u001b[0;31m     \u001b[0mrel_x\u001b[0m \u001b[0;34m=\u001b[0m \u001b[0;34m(\u001b[0m\u001b[0mnet_x\u001b[0m\u001b[0;34m(\u001b[0m\u001b[0minp\u001b[0m\u001b[0;34m)\u001b[0m\u001b[0;34m.\u001b[0m\u001b[0mdetach\u001b[0m\u001b[0;34m(\u001b[0m\u001b[0;34m)\u001b[0m\u001b[0;34m.\u001b[0m\u001b[0mcpu\u001b[0m\u001b[0;34m(\u001b[0m\u001b[0;34m)\u001b[0m\u001b[0;34m.\u001b[0m\u001b[0mnumpy\u001b[0m\u001b[0;34m(\u001b[0m\u001b[0;34m)\u001b[0m\u001b[0;34m)\u001b[0m\u001b[0;34m[\u001b[0m\u001b[0;36m0\u001b[0m\u001b[0;34m]\u001b[0m\u001b[0;34m\u001b[0m\u001b[0;34m\u001b[0m\u001b[0m\n\u001b[0m\u001b[1;32m     15\u001b[0m     \u001b[0mrel_y\u001b[0m \u001b[0;34m=\u001b[0m \u001b[0mnet_y\u001b[0m\u001b[0;34m(\u001b[0m\u001b[0minp\u001b[0m\u001b[0;34m)\u001b[0m\u001b[0;34m.\u001b[0m\u001b[0mdetach\u001b[0m\u001b[0;34m(\u001b[0m\u001b[0;34m)\u001b[0m\u001b[0;34m.\u001b[0m\u001b[0mcpu\u001b[0m\u001b[0;34m(\u001b[0m\u001b[0;34m)\u001b[0m\u001b[0;34m.\u001b[0m\u001b[0mnumpy\u001b[0m\u001b[0;34m(\u001b[0m\u001b[0;34m)\u001b[0m\u001b[0;34m[\u001b[0m\u001b[0;36m0\u001b[0m\u001b[0;34m]\u001b[0m\u001b[0;34m\u001b[0m\u001b[0;34m\u001b[0m\u001b[0m\n\u001b[1;32m     16\u001b[0m     \u001b[0mrel_angle\u001b[0m \u001b[0;34m=\u001b[0m \u001b[0mnet_angle\u001b[0m\u001b[0;34m(\u001b[0m\u001b[0minp\u001b[0m\u001b[0;34m)\u001b[0m\u001b[0;34m.\u001b[0m\u001b[0mdetach\u001b[0m\u001b[0;34m(\u001b[0m\u001b[0;34m)\u001b[0m\u001b[0;34m.\u001b[0m\u001b[0mcpu\u001b[0m\u001b[0;34m(\u001b[0m\u001b[0;34m)\u001b[0m\u001b[0;34m.\u001b[0m\u001b[0mnumpy\u001b[0m\u001b[0;34m(\u001b[0m\u001b[0;34m)\u001b[0m\u001b[0;34m[\u001b[0m\u001b[0;36m0\u001b[0m\u001b[0;34m]\u001b[0m\u001b[0;34m\u001b[0m\u001b[0;34m\u001b[0m\u001b[0m\n",
      "\u001b[0;31mIndexError\u001b[0m: too many indices for array: array is 0-dimensional, but 1 were indexed"
     ]
    }
   ],
   "source": [
    "# Visualizing output\n",
    "\n",
    "np.warnings.filterwarnings('error', category=np.VisibleDeprecationWarning)    \n",
    "out_x = [np.asarray([pose_list[0,0]])]\n",
    "out_y = [np.asarray([pose_list[0,1]])]\n",
    "out_angle = [np.asarray([pose_list[0,2]])]\n",
    "pose_list_ver = [pose_list[0]]\n",
    "rel_pose_act_array = []\n",
    "rel_pose_pred_array = []\n",
    "for i in range(len(image_list) - 1):\n",
    "    inp = np.stack([image_list[i], image_list[i+1]])\n",
    "    inp = torch.tensor(np.expand_dims(inp, axis=0)).float().cuda()\n",
    "    \n",
    "    rel_x = (net_x(inp).detach().cpu().numpy())[0]\n",
    "    rel_y = net_y(inp).detach().cpu().numpy()[0]\n",
    "    rel_angle = net_angle(inp).detach().cpu().numpy()[0]\n",
    "    rel_pose_pred_array.append(np.array([rel_x, rel_y, rel_angle]))\n",
    "    abs_pose = AbsolutePose(np.array([out_x[i], out_y[i], out_angle[i]]),np.array([rel_x, rel_y, rel_angle]))\n",
    "    out_x.append(abs_pose[0])\n",
    "    out_y.append(abs_pose[1])\n",
    "    out_angle.append(abs_pose[2])\n",
    "    \n",
    "    rel_pose_act = RelativePose(pose_list[i], pose_list[i+1])\n",
    "    rel_pose_act_array.append(rel_pose_act)\n",
    "    \n",
    "rel_pose_act_array = np.asarray(rel_pose_act_array)\n",
    "rel_pose_pred_array = np.asarray(rel_pose_pred_array)\n",
    "out_x = np.asarray(out_x)\n",
    "out_y = np.asarray(out_y)\n",
    "out_angle = np.asarray(out_angle)\n",
    "\n",
    "plt.figure()\n",
    "plt.plot(rel_pose_act_array[:,0], label='Actual')\n",
    "plt.plot(rel_pose_pred_array[:,0], label='Prediction')\n",
    "plt.xlabel(\"Time step\")\n",
    "plt.ylabel(\"Relative pose-X (m)\")\n",
    "plt.title(\"Verifying Relative pose-X results\")\n",
    "plt.legend()\n",
    "plt.show()\n",
    "\n",
    "plt.figure()\n",
    "plt.plot(rel_pose_act_array[:,1], label='Actual')\n",
    "plt.plot(rel_pose_pred_array[:,1], label='Prediction')\n",
    "plt.xlabel(\"Time step\")\n",
    "plt.ylabel(\"Relative pose-Y (m)\")\n",
    "plt.title(\"Verifying Relative pose-Y results\")\n",
    "plt.legend()\n",
    "plt.show()\n",
    "\n",
    "plt.figure()\n",
    "plt.plot(rel_pose_act_array[:,2], label='Actual')\n",
    "plt.plot(rel_pose_pred_array[:,2], label='Prediction')\n",
    "plt.xlabel(\"Time step\")\n",
    "plt.ylabel(\"Relative pose-Angle (m)\")\n",
    "plt.title(\"Verifying Relative pose-Angle results\")\n",
    "plt.legend()\n",
    "plt.show()"
   ]
  },
  {
   "cell_type": "code",
   "execution_count": null,
   "id": "8bb7b3c4",
   "metadata": {},
   "outputs": [],
   "source": []
  }
 ],
 "metadata": {
  "kernelspec": {
   "display_name": "Python 3 (ipykernel)",
   "language": "python",
   "name": "python3"
  },
  "language_info": {
   "codemirror_mode": {
    "name": "ipython",
    "version": 3
   },
   "file_extension": ".py",
   "mimetype": "text/x-python",
   "name": "python",
   "nbconvert_exporter": "python",
   "pygments_lexer": "ipython3",
   "version": "3.9.7"
  }
 },
 "nbformat": 4,
 "nbformat_minor": 5
}

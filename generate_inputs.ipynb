{
 "cells": [
  {
   "cell_type": "code",
   "execution_count": null,
   "id": "26f34112",
   "metadata": {},
   "outputs": [],
   "source": [
    "import cv2\n",
    "import numpy as np\n",
    "from PIL import Image\n",
    "import pandas\n",
    "import math\n",
    "\n",
    "def RelativePose(pose1, pose2):\n",
    "    c = np.cos(-pose1[2])\n",
    "    s = np.sin(-pose1[2])\n",
    "    x = pose2[0] - pose1[0]\n",
    "    y = pose2[1] - pose1[1]\n",
    "    Theta = pose2[2] - pose1[2]\n",
    "    X = c*x - s*y\n",
    "    Y = s*x + c*y\n",
    "    return np.array([X, Y, Theta])\n",
    "\n",
    "def GenerateInputVector(dir):\n",
    "    max_succ_dist = 0.5\n",
    "    max_succ_ang = math.radians(10)\n",
    "    pose_list = pandas.read_csv(dir + 'pose_list.csv', header=None).values\n",
    "    N = len(pose_list)\n",
    "    \n",
    "    image1_list = []\n",
    "    image2_list = []\n",
    "    rel_pose_list = []\n",
    "    print(pose_list)\n",
    "    for i in range(0, N-1):\n",
    "        for j in range(i+1, N):\n",
    "            rel_pose = RelativePose(pose_list[i], pose_list[j])\n",
    "            dist = np.sqrt(rel_pose[0]*rel_pose[0] + rel_pose[1]*rel_pose[1])\n",
    "            ang = rel_pose[2]\n",
    "            if dist < max_succ_dist and ang < max_succ_ang:\n",
    "                image1_list.append(cv2.imread(dir + 'img_' + str(i) + '.jpg', 0)/255)\n",
    "                image2_list.append(cv2.imread(dir + 'img_' + str(j) + '.jpg', 0)/255)\n",
    "                rel_pose_list.append(rel_pose)\n",
    "    return image1_list, image2_list, rel_pose_list"
   ]
  },
  {
   "cell_type": "code",
   "execution_count": null,
   "id": "97eb4b91",
   "metadata": {},
   "outputs": [],
   "source": [
    "dir = './data/traj_2/'\n",
    "image1_list, image2_list, rel_pose_list = GenerateInputVector(dir)"
   ]
  },
  {
   "cell_type": "code",
   "execution_count": null,
   "id": "2dec60d9",
   "metadata": {},
   "outputs": [],
   "source": [
    "len(image1_list)"
   ]
  },
  {
   "cell_type": "code",
   "execution_count": null,
   "id": "9400a1a3",
   "metadata": {},
   "outputs": [],
   "source": []
  }
 ],
 "metadata": {
  "kernelspec": {
   "display_name": "Python 3",
   "language": "python",
   "name": "python3"
  },
  "language_info": {
   "codemirror_mode": {
    "name": "ipython",
    "version": 3
   },
   "file_extension": ".py",
   "mimetype": "text/x-python",
   "name": "python",
   "nbconvert_exporter": "python",
   "pygments_lexer": "ipython3",
   "version": "3.9.1"
  }
 },
 "nbformat": 4,
 "nbformat_minor": 5
}

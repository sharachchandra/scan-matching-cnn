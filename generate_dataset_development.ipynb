{
 "cells": [
  {
   "cell_type": "code",
   "execution_count": 19,
   "id": "f93bf9e5",
   "metadata": {},
   "outputs": [],
   "source": [
    "import numpy as np\n",
    "import pandas as pandas\n",
    "import math\n",
    "import cv2\n",
    "from torch.utils.data import Dataset, DataLoader\n",
    "from generate_inputs import RelativePose\n",
    "import torch"
   ]
  },
  {
   "cell_type": "code",
   "execution_count": 85,
   "id": "250ee852",
   "metadata": {},
   "outputs": [],
   "source": [
    "class TrajectoryDataset(Dataset):\n",
    "\n",
    "    def __init__(self, root_dir, traj_num_list , max_num_pose, max_dis, max_ang):\n",
    "        idx_map = np.zeros(len(traj_num_list), dtype = int)\n",
    "        rel_pose_idx_map = []\n",
    "        rel_pose_map = []\n",
    "        l = 0\n",
    "        for k in traj_num_list:\n",
    "            dir = root_dir + 'traj_' + str(k) + '/'\n",
    "            print(k)\n",
    "\n",
    "            pose_list = pandas.read_csv(dir + 'pose_list.csv', header=None).values\n",
    "            N = len(pose_list)\n",
    "            rel_pose_idx_list = np.zeros(N-1, dtype = int)\n",
    "            rel_pose_list = []\n",
    "\n",
    "            for i in range(0, N-1):\n",
    "                num_poses = 0\n",
    "                for j in range(i+1, N, 1):\n",
    "                    rel_pose = RelativePose(pose_list[i], pose_list[j])\n",
    "                    dis = np.sqrt(rel_pose[0]*rel_pose[0] + rel_pose[1]*rel_pose[1])\n",
    "                    ang = rel_pose[2]\n",
    "\n",
    "                    if dis <= max_dis and ang <= max_ang and (j - i) <= max_num_pose:\n",
    "                        rel_pose_list.append(rel_pose)\n",
    "                        num_poses = num_poses + 1\n",
    "                    else:\n",
    "                        break      \n",
    "                rel_pose_idx_list[i] = num_poses\n",
    "            rel_pose_idx_list = np.cumsum(rel_pose_idx_list)\n",
    "            idx_map[l] = len(rel_pose_list)\n",
    "\n",
    "            if rel_pose_idx_list[-1] != idx_map[l]:\n",
    "                print('Error in TrajectoryDataset')\n",
    "            rel_pose_idx_map.append(rel_pose_idx_list)\n",
    "            rel_pose_map.append(rel_pose_list)\n",
    "            l = l + 1\n",
    "        idx_map = np.cumsum(idx_map)\n",
    "        \n",
    "        self.idx_map = idx_map\n",
    "        self.rel_pose_idx_map = rel_pose_idx_map\n",
    "        self.rel_pose_map = rel_pose_map\n",
    "        self.root_dir = root_dir\n",
    "        self.traj_num_list = traj_num_list\n",
    "\n",
    "    def __len__(self):\n",
    "        return self.idx_map[-1]\n",
    "\n",
    "    def __getitem__(self, idx):\n",
    "        if torch.is_tensor(idx):\n",
    "            idx = idx.tolist()\n",
    "            \n",
    "        if idx >= self.idx_map[-1] or idx < 0:\n",
    "            print('Larger than bound')\n",
    "\n",
    "        outer_idx = np.argmax(self.idx_map > idx)\n",
    "        if outer_idx > 0:\n",
    "            ij = idx - self.idx_map[outer_idx - 1]\n",
    "            inner_idx = np.argmax(self.rel_pose_idx_map[outer_idx] > ij)\n",
    "        else:\n",
    "            ij = idx\n",
    "            inner_idx = np.argmax(self.rel_pose_idx_map[outer_idx] > ij)\n",
    "\n",
    "        i = inner_idx\n",
    "        if i > 0:\n",
    "            j = ij - self.rel_pose_idx_map[outer_idx][i - 1] + i + 1\n",
    "        else:\n",
    "            j = ij + i + 1\n",
    "        \n",
    "        dir = self.root_dir + 'traj_' + str(self.traj_num_list[outer_idx]) + '/'\n",
    "        \n",
    "        image1 = cv2.imread(dir + 'img_' + str(i) + '.jpg', 0)/255\n",
    "        image2 = cv2.imread(dir + 'img_' + str(j) + '.jpg', 0)/255\n",
    "        rel_pose = self.rel_pose_map[outer_idx][ij]\n",
    "        \n",
    "        sample = {'image1': image1, 'image2': image2, 'rel_pose': rel_pose}\n",
    "\n",
    "        return sample\n"
   ]
  },
  {
   "cell_type": "code",
   "execution_count": 86,
   "id": "f8039e50",
   "metadata": {},
   "outputs": [
    {
     "name": "stdout",
     "output_type": "stream",
     "text": [
      "1\n",
      "2\n",
      "3\n",
      "4\n",
      "5\n",
      "6\n",
      "7\n",
      "8\n",
      "9\n",
      "10\n"
     ]
    }
   ],
   "source": [
    "train_dataset = TrajectoryDataset('./data/', np.arange(1,11) , 50, 0.5, math.radians(10))"
   ]
  },
  {
   "cell_type": "code",
   "execution_count": 88,
   "id": "f4fc7bbb",
   "metadata": {},
   "outputs": [
    {
     "data": {
      "text/plain": [
       "112576"
      ]
     },
     "execution_count": 88,
     "metadata": {},
     "output_type": "execute_result"
    }
   ],
   "source": [
    "len(train_dataset)"
   ]
  },
  {
   "cell_type": "code",
   "execution_count": 90,
   "id": "5832753c",
   "metadata": {},
   "outputs": [
    {
     "data": {
      "text/plain": [
       "array([[0., 0., 0., ..., 0., 0., 0.],\n",
       "       [0., 0., 0., ..., 0., 0., 0.],\n",
       "       [0., 0., 0., ..., 0., 0., 0.],\n",
       "       ...,\n",
       "       [0., 0., 0., ..., 0., 0., 0.],\n",
       "       [0., 0., 0., ..., 0., 0., 0.],\n",
       "       [0., 0., 0., ..., 0., 0., 0.]])"
      ]
     },
     "execution_count": 90,
     "metadata": {},
     "output_type": "execute_result"
    }
   ],
   "source": [
    "train_dataset[112575]['image2']"
   ]
  },
  {
   "cell_type": "code",
   "execution_count": 66,
   "id": "2d582b50",
   "metadata": {},
   "outputs": [
    {
     "data": {
      "text/plain": [
       "14100"
      ]
     },
     "execution_count": 66,
     "metadata": {},
     "output_type": "execute_result"
    }
   ],
   "source": [
    "58301 - 44201"
   ]
  },
  {
   "cell_type": "code",
   "execution_count": null,
   "id": "3c84992a",
   "metadata": {},
   "outputs": [],
   "source": []
  },
  {
   "cell_type": "code",
   "execution_count": null,
   "id": "1474814d",
   "metadata": {},
   "outputs": [],
   "source": [
    "import numpy as np\n",
    "import pandas as pd\n",
    "from generate_inputs import RelativePose\n",
    "import math\n",
    "\n",
    "traj_num_list = np.array([1,3,8])\n",
    "root_dir = './data/'\n",
    "max_dis = 0.5\n",
    "max_ang = math.radians(10)\n",
    "max_num_pose = 50\n",
    "\n",
    "idx_map = np.zeros(len(traj_num_list), dtype = int)\n",
    "rel_pose_idx_map = []\n",
    "rel_pose_map = []\n",
    "l = 0\n",
    "for k in traj_num_list:\n",
    "    dir = root_dir + 'traj_' + str(k) + '/'\n",
    "    print(k)\n",
    "    \n",
    "    pose_list = pd.read_csv(dir + 'pose_list.csv', header=None).values\n",
    "    N = len(pose_list)\n",
    "    rel_pose_idx_list = np.zeros(N-1, dtype = int)\n",
    "    rel_pose_list = []\n",
    "    \n",
    "    for i in range(0, N-1):\n",
    "        num_poses = 0\n",
    "        for j in range(i+1, N, 1):\n",
    "            rel_pose = RelativePose(pose_list[i], pose_list[j])\n",
    "            dis = np.sqrt(rel_pose[0]*rel_pose[0] + rel_pose[1]*rel_pose[1])\n",
    "            ang = rel_pose[2]\n",
    "\n",
    "            if dis <= max_dis and ang <= max_ang and (j - i) <= max_num_pose:\n",
    "                rel_pose_list.append(rel_pose)\n",
    "                num_poses = num_poses + 1\n",
    "            else:\n",
    "                break      \n",
    "        rel_pose_idx_list[i] = num_poses\n",
    "    rel_pose_idx_list = np.cumsum(rel_pose_idx_list)\n",
    "    idx_map[l] = len(rel_pose_list)\n",
    "    \n",
    "    if rel_pose_idx_list[-1] != idx_map[l]:\n",
    "        print('Error in TrajectoryDataset')\n",
    "    rel_pose_idx_map.append(rel_pose_idx_list)\n",
    "    rel_pose_map.append(rel_pose_list)\n",
    "    l = l + 1\n",
    "idx_map = np.cumsum(idx_map)"
   ]
  }
 ],
 "metadata": {
  "kernelspec": {
   "display_name": "Python 3 (ipykernel)",
   "language": "python",
   "name": "python3"
  },
  "language_info": {
   "codemirror_mode": {
    "name": "ipython",
    "version": 3
   },
   "file_extension": ".py",
   "mimetype": "text/x-python",
   "name": "python",
   "nbconvert_exporter": "python",
   "pygments_lexer": "ipython3",
   "version": "3.9.7"
  }
 },
 "nbformat": 4,
 "nbformat_minor": 5
}
